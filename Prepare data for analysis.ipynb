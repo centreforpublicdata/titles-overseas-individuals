{
 "cells": [
  {
   "cell_type": "markdown",
   "id": "283b9392",
   "metadata": {},
   "source": [
    "# Prepare FOI data for analysis\n",
    "\n",
    "Prepare the FOI data for analysis, clean it, make convenience spreadsheets for eyeballing and cut it as needed for Flourish charts.\n",
    "\n",
    "This assumes that you've pulled out the raw FOI Excel files to a CSV file per year in `./data/raw/`, using the naming convention `count-by-country-and-la-YYYY-MM.csv`."
   ]
  },
  {
   "cell_type": "code",
   "execution_count": 15,
   "id": "85929946",
   "metadata": {},
   "outputs": [],
   "source": [
    "import pandas as pd"
   ]
  },
  {
   "cell_type": "markdown",
   "id": "e58e3e56",
   "metadata": {},
   "source": [
    "## Concatenate and tidy the raw files"
   ]
  },
  {
   "cell_type": "code",
   "execution_count": 16,
   "id": "b8fcc304",
   "metadata": {},
   "outputs": [],
   "source": [
    "files = [\"2010-01\", \"2012-01\", \"2014-01\", \"2016-01\", \"2018-01\", \"2020-01\", \"2021-08\"]\n",
    "df = pd.concat((pd.read_csv(\"./data/raw/count-by-country-and-la-%s.csv\" % f)\n",
    "                 .set_index(['COUNTRY_NAME','DIST_NAME_VAR', 'TENURE'])\n",
    "        .add_suffix(\"_%s\" % f) for f in files), axis=1)\n",
    "df = df.reset_index()"
   ]
  },
  {
   "cell_type": "markdown",
   "id": "f056b88e",
   "metadata": {},
   "source": [
    "Strip rogue whitespace."
   ]
  },
  {
   "cell_type": "code",
   "execution_count": 17,
   "id": "c1236b31",
   "metadata": {},
   "outputs": [],
   "source": [
    "df.COUNTRY_NAME = df.COUNTRY_NAME.str.strip()\n",
    "df.DIST_NAME_VAR = df.DIST_NAME_VAR.str.strip()\n",
    "df.TENURE = df.TENURE.str.strip()"
   ]
  },
  {
   "cell_type": "markdown",
   "id": "be48ce6d",
   "metadata": {},
   "source": [
    "### Tidy up countries\n",
    "\n",
    "Tidy up Ireland, which looks like the only significant duplicate country name."
   ]
  },
  {
   "cell_type": "code",
   "execution_count": 18,
   "id": "31969306",
   "metadata": {},
   "outputs": [],
   "source": [
    "df.replace({\"EIRE\": \"IRELAND\"}, inplace=True)"
   ]
  },
  {
   "cell_type": "markdown",
   "id": "37745da7",
   "metadata": {},
   "source": [
    "### Tidy up local authorities\n",
    "\n",
    "Tidy up local authority names - this happens because there were administrative changes between 2010 and 2021, mostly councils being consolidated into larger groups."
   ]
  },
  {
   "cell_type": "code",
   "execution_count": 19,
   "id": "9ac7abde",
   "metadata": {},
   "outputs": [],
   "source": [
    "df.replace({\n",
    "    \"SOUTH BUCKS\": \"BUCKINGHAMSHIRE\",\n",
    "    \"CHILTERN\": \"BUCKINGHAMSHIRE\",\n",
    "    \"WYCOMBE\": \"BUCKINGHAMSHIRE\",\n",
    "    \"AYLESBURY VALE\": \"BUCKINGHAMSHIRE\",\n",
    "    \"NORTH DORSET\": \"DORSET\",\n",
    "    \"WEST DORSET\": \"DORSET\",\n",
    "    \"EAST DORSET\": \"DORSET\",\n",
    "    \"WEYMOUTH AND PORTLAND\": \"DORSET\",\n",
    "    \"PURBECK\": \"DORSET\",\n",
    "    \"BOURNEMOUTH\": \"BOURNEMOUTH, CHRISTCHURCH AND POOLE\",\n",
    "    \"CHRISTCHURCH\": \"BOURNEMOUTH, CHRISTCHURCH AND POOLE\",\n",
    "    \"POOLE\": \"BOURNEMOUTH, CHRISTCHURCH AND POOLE\",\n",
    "    \"CORBY\": \"NORTH NORTHAMPTONSHIRE\",\n",
    "    \"EAST NORTHAMPTONSHIRE\": \"NORTH NORTHAMPTONSHIRE\",\n",
    "    \"KETTERING\": \"NORTH NORTHAMPTONSHIRE\",\n",
    "    \"WELLINGBOROUGH\": \"NORTH NORTHAMPTONSHIRE\",\n",
    "    \"DAVENTRY\": \"WEST NORTHAMPTONSHIRE\",\n",
    "    \"NORTHAMPTON\": \"WEST NORTHAMPTONSHIRE\",\n",
    "    \"SOUTH NORTHAMPTONSHIRE\": \"WEST NORTHAMPTONSHIRE\",\n",
    "    \"ST EDMUNDSBURY\": \"WEST SUFFOLK\",\n",
    "    \"FOREST HEATH\": \"WEST SUFFOLK\",\n",
    "    \"SUFFOLK COASTAL\": \"EAST SUFFOLK\",\n",
    "    \"WAVENEY\": \"EAST SUFFOLK\",\n",
    "    \"SHEPWAY\": \"FOLKESTONE AND HYTHE\",\n",
    "    \"TAUNTON DEANE\": \"SOMERSET WEST AND TAUNTON\",\n",
    "    \"WEST SOMERSET\": \"SOMERSET WEST AND TAUNTON\",\n",
    "    \"PENWITH\": \"CORNWALL\",\n",
    "    \"KERRIER\": \"CORNWALL\",\n",
    "    \"CARRICK\": \"CORNWALL\",\n",
    "    \"RESTORMEL\": \"CORNWALL\",\n",
    "    \"CARADON\": \"CORNWALL\",\n",
    "    \"NORTH CORNWALL\": \"CORNWALL\",\n",
    "    \"DURHAM\": \"COUNTY DURHAM\",\n",
    "    \"EASINGTON\": \"COUNTY DURHAM\",\n",
    "    \"SEDGEFIELD\": \"COUNTY DURHAM\",\n",
    "    \"TEESDALE\": \"COUNTY DURHAM\",\n",
    "    \"WEAR VALLEY\": \"COUNTY DURHAM\",\n",
    "    \"DERWENTSIDE\": \"COUNTY DURHAM\",\n",
    "    \"CHESTER-LE-STREET\": \"COUNTY DURHAM\",\n",
    "    \"BLYTH VALLEY\": \"NORTHUMBERLAND\",\n",
    "    \"WANSBECK\": \"NORTHUMBERLAND\",\n",
    "    \"CASTLE MORPETH\": \"NORTHUMBERLAND\",\n",
    "    \"TYNEDALE\": \"NORTHUMBERLAND\",\n",
    "    \"ALNWICK\": \"NORTHUMBERLAND\",\n",
    "    \"BERWICK-UPON-TWEED\": \"NORTHUMBERLAND\",\n",
    "    \"NORTH SHROPSHIRE\": \"SHROPSHIRE\",\n",
    "    \"OSWESTRY\": \"SHROPSHIRE\",\n",
    "    \"SHREWSBURY AND ATCHAM\": \"SHROPSHIRE\",\n",
    "    \"SOUTH SHROPSHIRE\": \"SHROPSHIRE\",\n",
    "    \"BRIDGNORTH\": \"SHROPSHIRE\",\n",
    "    \"SALISBURY\": \"WILTSHIRE\",\n",
    "    \"WEST WILTSHIRE\": \"WILTSHIRE\",\n",
    "    \"KENNET\": \"WILTSHIRE\",\n",
    "    \"NORTH WILTSHIRE\": \"WILTSHIRE\",\n",
    "    \"ELLESMERE PORT AND NESTON\": \"CHESHIRE WEST AND CHESTER\",\n",
    "    \"VALE ROYAL\": \"CHESHIRE WEST AND CHESTER\",\n",
    "    \"CHESTER\": \"CHESHIRE WEST AND CHESTER\",\n",
    "    \"CREWE AND NANTWICH\": \"CHESHIRE EAST\",\n",
    "    \"CONGLETON\": \"CHESHIRE EAST\",\n",
    "    \"MACCLESFIELD\": \"CHESHIRE EAST\",\n",
    "    \"SOUTH BEDFORDSHIRE\": \"CENTRAL BEDFORDSHIRE\",\n",
    "    \"MID BEDFORDSHIRE\": \"CENTRAL BEDFORDSHIRE\",\n",
    "    \"BEDFORDSHIRE\": \"CENTRAL BEDFORDSHIRE\"\n",
    "}, inplace=True)"
   ]
  },
  {
   "cell_type": "code",
   "execution_count": 20,
   "id": "f69934bb",
   "metadata": {},
   "outputs": [],
   "source": [
    "df = df.groupby([\"COUNTRY_NAME\", \"DIST_NAME_VAR\", \"TENURE\"]).sum().reset_index()"
   ]
  },
  {
   "cell_type": "code",
   "execution_count": 21,
   "id": "bc05d2a0",
   "metadata": {},
   "outputs": [],
   "source": [
    "df.fillna(0, inplace=True)"
   ]
  },
  {
   "cell_type": "code",
   "execution_count": 22,
   "id": "494fd46b",
   "metadata": {},
   "outputs": [],
   "source": [
    "for f in files:\n",
    "    df[\"TITLES_%s\" % f.replace(\"-\", \"_\")] = df[\"NO_TITLES_%s\" % f].astype(int)\n",
    "    df.drop(\"NO_TITLES_%s\" % f, axis=1, inplace=True)\n",
    "df.rename(columns={\"COUNTRY_NAME\": \"COUNTRY\", \"DIST_NAME_VAR\": \"DIST\"}, inplace=True)"
   ]
  },
  {
   "cell_type": "code",
   "execution_count": 23,
   "id": "04031cdd",
   "metadata": {},
   "outputs": [
    {
     "data": {
      "text/html": [
       "<div>\n",
       "<style scoped>\n",
       "    .dataframe tbody tr th:only-of-type {\n",
       "        vertical-align: middle;\n",
       "    }\n",
       "\n",
       "    .dataframe tbody tr th {\n",
       "        vertical-align: top;\n",
       "    }\n",
       "\n",
       "    .dataframe thead th {\n",
       "        text-align: right;\n",
       "    }\n",
       "</style>\n",
       "<table border=\"1\" class=\"dataframe\">\n",
       "  <thead>\n",
       "    <tr style=\"text-align: right;\">\n",
       "      <th></th>\n",
       "      <th>COUNTRY</th>\n",
       "      <th>DIST</th>\n",
       "      <th>TENURE</th>\n",
       "      <th>TITLES_2010_01</th>\n",
       "      <th>TITLES_2012_01</th>\n",
       "      <th>TITLES_2014_01</th>\n",
       "      <th>TITLES_2016_01</th>\n",
       "      <th>TITLES_2018_01</th>\n",
       "      <th>TITLES_2020_01</th>\n",
       "      <th>TITLES_2021_08</th>\n",
       "    </tr>\n",
       "  </thead>\n",
       "  <tbody>\n",
       "    <tr>\n",
       "      <th>0</th>\n",
       "      <td>AFGHANISTAN</td>\n",
       "      <td>ASHFIELD</td>\n",
       "      <td>L</td>\n",
       "      <td>0</td>\n",
       "      <td>0</td>\n",
       "      <td>0</td>\n",
       "      <td>0</td>\n",
       "      <td>0</td>\n",
       "      <td>1</td>\n",
       "      <td>1</td>\n",
       "    </tr>\n",
       "    <tr>\n",
       "      <th>1</th>\n",
       "      <td>AFGHANISTAN</td>\n",
       "      <td>EAST RIDING OF YORKSHIRE</td>\n",
       "      <td>F</td>\n",
       "      <td>1</td>\n",
       "      <td>1</td>\n",
       "      <td>1</td>\n",
       "      <td>1</td>\n",
       "      <td>1</td>\n",
       "      <td>1</td>\n",
       "      <td>1</td>\n",
       "    </tr>\n",
       "    <tr>\n",
       "      <th>2</th>\n",
       "      <td>ALBANIA</td>\n",
       "      <td>CORNWALL</td>\n",
       "      <td>L</td>\n",
       "      <td>0</td>\n",
       "      <td>0</td>\n",
       "      <td>0</td>\n",
       "      <td>0</td>\n",
       "      <td>0</td>\n",
       "      <td>1</td>\n",
       "      <td>1</td>\n",
       "    </tr>\n",
       "    <tr>\n",
       "      <th>3</th>\n",
       "      <td>ALBANIA</td>\n",
       "      <td>ENFIELD</td>\n",
       "      <td>L</td>\n",
       "      <td>0</td>\n",
       "      <td>0</td>\n",
       "      <td>0</td>\n",
       "      <td>0</td>\n",
       "      <td>0</td>\n",
       "      <td>1</td>\n",
       "      <td>0</td>\n",
       "    </tr>\n",
       "    <tr>\n",
       "      <th>4</th>\n",
       "      <td>ALBANIA</td>\n",
       "      <td>LAMBETH</td>\n",
       "      <td>L</td>\n",
       "      <td>0</td>\n",
       "      <td>0</td>\n",
       "      <td>0</td>\n",
       "      <td>0</td>\n",
       "      <td>0</td>\n",
       "      <td>0</td>\n",
       "      <td>1</td>\n",
       "    </tr>\n",
       "  </tbody>\n",
       "</table>\n",
       "</div>"
      ],
      "text/plain": [
       "       COUNTRY                      DIST TENURE  TITLES_2010_01  \\\n",
       "0  AFGHANISTAN                  ASHFIELD      L               0   \n",
       "1  AFGHANISTAN  EAST RIDING OF YORKSHIRE      F               1   \n",
       "2      ALBANIA                  CORNWALL      L               0   \n",
       "3      ALBANIA                   ENFIELD      L               0   \n",
       "4      ALBANIA                   LAMBETH      L               0   \n",
       "\n",
       "   TITLES_2012_01  TITLES_2014_01  TITLES_2016_01  TITLES_2018_01  \\\n",
       "0               0               0               0               0   \n",
       "1               1               1               1               1   \n",
       "2               0               0               0               0   \n",
       "3               0               0               0               0   \n",
       "4               0               0               0               0   \n",
       "\n",
       "   TITLES_2020_01  TITLES_2021_08  \n",
       "0               1               1  \n",
       "1               1               1  \n",
       "2               1               1  \n",
       "3               1               0  \n",
       "4               0               1  "
      ]
     },
     "execution_count": 23,
     "metadata": {},
     "output_type": "execute_result"
    }
   ],
   "source": [
    "df.head()"
   ]
  },
  {
   "cell_type": "code",
   "execution_count": 24,
   "id": "404bba70",
   "metadata": {},
   "outputs": [],
   "source": [
    "df.to_csv(\"./data/all_data.csv\", index=False)"
   ]
  },
  {
   "cell_type": "markdown",
   "id": "7ea40ea5",
   "metadata": {},
   "source": [
    "## Create a country-only version\n",
    "\n",
    "It's useful to have a separate CSV file with the counts grouped by countries."
   ]
  },
  {
   "cell_type": "code",
   "execution_count": 26,
   "id": "12a76be6",
   "metadata": {},
   "outputs": [],
   "source": [
    "df_by_country = df.groupby(\"COUNTRY\").sum().reset_index()\n",
    "df_by_country[\"abs_change_10_21\"] = df_by_country[\"TITLES_2021_08\"] - df_by_country[\"TITLES_2010_01\"]\n",
    "df_by_country[\"percent_change_10_21\"] = df_by_country[\"abs_change_10_21\"] / df_by_country[\"TITLES_2010_01\"] * 100.0"
   ]
  },
  {
   "cell_type": "code",
   "execution_count": 27,
   "id": "169898ef",
   "metadata": {},
   "outputs": [
    {
     "data": {
      "text/html": [
       "<div>\n",
       "<style scoped>\n",
       "    .dataframe tbody tr th:only-of-type {\n",
       "        vertical-align: middle;\n",
       "    }\n",
       "\n",
       "    .dataframe tbody tr th {\n",
       "        vertical-align: top;\n",
       "    }\n",
       "\n",
       "    .dataframe thead th {\n",
       "        text-align: right;\n",
       "    }\n",
       "</style>\n",
       "<table border=\"1\" class=\"dataframe\">\n",
       "  <thead>\n",
       "    <tr style=\"text-align: right;\">\n",
       "      <th></th>\n",
       "      <th>COUNTRY</th>\n",
       "      <th>TITLES_2010_01</th>\n",
       "      <th>TITLES_2012_01</th>\n",
       "      <th>TITLES_2014_01</th>\n",
       "      <th>TITLES_2016_01</th>\n",
       "      <th>TITLES_2018_01</th>\n",
       "      <th>TITLES_2020_01</th>\n",
       "      <th>TITLES_2021_08</th>\n",
       "      <th>abs_change_10_21</th>\n",
       "      <th>percent_change_10_21</th>\n",
       "    </tr>\n",
       "  </thead>\n",
       "  <tbody>\n",
       "    <tr>\n",
       "      <th>0</th>\n",
       "      <td>AFGHANISTAN</td>\n",
       "      <td>1</td>\n",
       "      <td>1</td>\n",
       "      <td>1</td>\n",
       "      <td>1</td>\n",
       "      <td>1</td>\n",
       "      <td>2</td>\n",
       "      <td>2</td>\n",
       "      <td>1</td>\n",
       "      <td>100.000000</td>\n",
       "    </tr>\n",
       "    <tr>\n",
       "      <th>1</th>\n",
       "      <td>ALBANIA</td>\n",
       "      <td>0</td>\n",
       "      <td>0</td>\n",
       "      <td>0</td>\n",
       "      <td>0</td>\n",
       "      <td>0</td>\n",
       "      <td>4</td>\n",
       "      <td>5</td>\n",
       "      <td>5</td>\n",
       "      <td>inf</td>\n",
       "    </tr>\n",
       "    <tr>\n",
       "      <th>2</th>\n",
       "      <td>ALDERNEY</td>\n",
       "      <td>31</td>\n",
       "      <td>37</td>\n",
       "      <td>51</td>\n",
       "      <td>49</td>\n",
       "      <td>52</td>\n",
       "      <td>53</td>\n",
       "      <td>47</td>\n",
       "      <td>16</td>\n",
       "      <td>51.612903</td>\n",
       "    </tr>\n",
       "    <tr>\n",
       "      <th>3</th>\n",
       "      <td>ALGERIA</td>\n",
       "      <td>16</td>\n",
       "      <td>25</td>\n",
       "      <td>37</td>\n",
       "      <td>37</td>\n",
       "      <td>40</td>\n",
       "      <td>51</td>\n",
       "      <td>55</td>\n",
       "      <td>39</td>\n",
       "      <td>243.750000</td>\n",
       "    </tr>\n",
       "    <tr>\n",
       "      <th>4</th>\n",
       "      <td>ANDORRA</td>\n",
       "      <td>25</td>\n",
       "      <td>46</td>\n",
       "      <td>75</td>\n",
       "      <td>89</td>\n",
       "      <td>95</td>\n",
       "      <td>96</td>\n",
       "      <td>100</td>\n",
       "      <td>75</td>\n",
       "      <td>300.000000</td>\n",
       "    </tr>\n",
       "  </tbody>\n",
       "</table>\n",
       "</div>"
      ],
      "text/plain": [
       "       COUNTRY  TITLES_2010_01  TITLES_2012_01  TITLES_2014_01  \\\n",
       "0  AFGHANISTAN               1               1               1   \n",
       "1      ALBANIA               0               0               0   \n",
       "2     ALDERNEY              31              37              51   \n",
       "3      ALGERIA              16              25              37   \n",
       "4      ANDORRA              25              46              75   \n",
       "\n",
       "   TITLES_2016_01  TITLES_2018_01  TITLES_2020_01  TITLES_2021_08  \\\n",
       "0               1               1               2               2   \n",
       "1               0               0               4               5   \n",
       "2              49              52              53              47   \n",
       "3              37              40              51              55   \n",
       "4              89              95              96             100   \n",
       "\n",
       "   abs_change_10_21  percent_change_10_21  \n",
       "0                 1            100.000000  \n",
       "1                 5                   inf  \n",
       "2                16             51.612903  \n",
       "3                39            243.750000  \n",
       "4                75            300.000000  "
      ]
     },
     "execution_count": 27,
     "metadata": {},
     "output_type": "execute_result"
    }
   ],
   "source": [
    "df_by_country.head()"
   ]
  },
  {
   "cell_type": "code",
   "execution_count": 28,
   "id": "c0f5a3af",
   "metadata": {},
   "outputs": [],
   "source": [
    "df_by_country.sort_values(\"TITLES_2021_08\", ascending=False).to_csv(\"./data/by_country.csv\", index=False)"
   ]
  },
  {
   "cell_type": "markdown",
   "id": "18bf812f",
   "metadata": {},
   "source": [
    "Make a pivoted version, for use in the Flourish bar chart."
   ]
  },
  {
   "cell_type": "code",
   "execution_count": 29,
   "id": "7d472b15",
   "metadata": {},
   "outputs": [],
   "source": [
    "df_by_country\\\n",
    "    .drop([\"abs_change_10_21\", \"percent_change_10_21\"], axis=1)\\\n",
    "    .sort_values(\"TITLES_2021_08\", ascending=False).set_index('COUNTRY')\\\n",
    "    .transpose().to_csv(\"./data/barchart.csv\", encoding='utf-8')"
   ]
  },
  {
   "cell_type": "markdown",
   "id": "39013b84",
   "metadata": {},
   "source": [
    "## Create a local authority-only version"
   ]
  },
  {
   "cell_type": "code",
   "execution_count": 30,
   "id": "3f4771a1",
   "metadata": {},
   "outputs": [],
   "source": [
    "df_by_dist = df.groupby(\"DIST\").sum().reset_index()\n",
    "df_by_dist[\"abs_change_10_21\"] = df_by_dist[\"TITLES_2021_08\"] - df_by_dist[\"TITLES_2010_01\"]\n",
    "df_by_dist[\"percent_change_10_21\"] = df_by_dist[\"abs_change_10_21\"] / df_by_dist[\"TITLES_2010_01\"] * 100.0\n",
    "df_by_dist.sort_values(\"TITLES_2021_08\", ascending=False).to_csv(\"./data/by_dist.csv\", index=False)"
   ]
  },
  {
   "cell_type": "markdown",
   "id": "67bf4cae",
   "metadata": {},
   "source": [
    "## Create a country and local authority version\n",
    "\n",
    "For analysis and for the Flourish table."
   ]
  },
  {
   "cell_type": "code",
   "execution_count": 45,
   "id": "595848bb",
   "metadata": {},
   "outputs": [],
   "source": [
    "df_by_country_and_dist = df.groupby([\"COUNTRY\", \"DIST\"]).sum().reset_index()\n",
    "df_by_country_and_dist[\"abs_change_10_21\"] = \\\n",
    "    df_by_country_and_dist[\"TITLES_2021_08\"] - df_by_country_and_dist[\"TITLES_2010_01\"]\n",
    "df_by_country_and_dist[\"percent_change_10_21\"] = \\\n",
    "    df_by_country_and_dist[\"abs_change_10_21\"] / df_by_country_and_dist[\"TITLES_2010_01\"] * 100.0\n",
    "df_by_country_and_dist\\\n",
    "    .sort_values(\"TITLES_2021_08\", ascending=False)\\\n",
    "    .to_csv(\"./data/by_country_and_dist.csv\", index=False)"
   ]
  },
  {
   "cell_type": "markdown",
   "id": "4a161476",
   "metadata": {},
   "source": [
    "## Have a quick look at tenures\n",
    "\n",
    "We don't analyse freeholds/leaseholds in the main analysis, have a quick look here. Freeholds used to outnumber leaseholds, now the split is roughly 50/50. This probably indicates more flats being bought in recent years."
   ]
  },
  {
   "cell_type": "code",
   "execution_count": 31,
   "id": "13095357",
   "metadata": {},
   "outputs": [
    {
     "data": {
      "text/html": [
       "<div>\n",
       "<style scoped>\n",
       "    .dataframe tbody tr th:only-of-type {\n",
       "        vertical-align: middle;\n",
       "    }\n",
       "\n",
       "    .dataframe tbody tr th {\n",
       "        vertical-align: top;\n",
       "    }\n",
       "\n",
       "    .dataframe thead th {\n",
       "        text-align: right;\n",
       "    }\n",
       "</style>\n",
       "<table border=\"1\" class=\"dataframe\">\n",
       "  <thead>\n",
       "    <tr style=\"text-align: right;\">\n",
       "      <th></th>\n",
       "      <th>TENURE</th>\n",
       "      <th>TITLES_2010_01</th>\n",
       "      <th>TITLES_2012_01</th>\n",
       "      <th>TITLES_2014_01</th>\n",
       "      <th>TITLES_2016_01</th>\n",
       "      <th>TITLES_2018_01</th>\n",
       "      <th>TITLES_2020_01</th>\n",
       "      <th>TITLES_2021_08</th>\n",
       "    </tr>\n",
       "  </thead>\n",
       "  <tbody>\n",
       "    <tr>\n",
       "      <th>0</th>\n",
       "      <td>F</td>\n",
       "      <td>50747</td>\n",
       "      <td>67976</td>\n",
       "      <td>84926</td>\n",
       "      <td>100991</td>\n",
       "      <td>112356</td>\n",
       "      <td>121725</td>\n",
       "      <td>123621</td>\n",
       "    </tr>\n",
       "    <tr>\n",
       "      <th>1</th>\n",
       "      <td>L</td>\n",
       "      <td>37063</td>\n",
       "      <td>52066</td>\n",
       "      <td>67377</td>\n",
       "      <td>83009</td>\n",
       "      <td>103213</td>\n",
       "      <td>117929</td>\n",
       "      <td>123395</td>\n",
       "    </tr>\n",
       "  </tbody>\n",
       "</table>\n",
       "</div>"
      ],
      "text/plain": [
       "  TENURE  TITLES_2010_01  TITLES_2012_01  TITLES_2014_01  TITLES_2016_01  \\\n",
       "0      F           50747           67976           84926          100991   \n",
       "1      L           37063           52066           67377           83009   \n",
       "\n",
       "   TITLES_2018_01  TITLES_2020_01  TITLES_2021_08  \n",
       "0          112356          121725          123621  \n",
       "1          103213          117929          123395  "
      ]
     },
     "execution_count": 31,
     "metadata": {},
     "output_type": "execute_result"
    }
   ],
   "source": [
    "df_by_tenure = df.groupby(\"TENURE\").sum().reset_index()\n",
    "df_by_tenure.sort_values(\"TITLES_2021_08\", ascending=False).head()"
   ]
  },
  {
   "cell_type": "code",
   "execution_count": null,
   "id": "b5ecde8d",
   "metadata": {},
   "outputs": [],
   "source": []
  }
 ],
 "metadata": {
  "kernelspec": {
   "display_name": "Python 3 (ipykernel)",
   "language": "python",
   "name": "python3"
  },
  "language_info": {
   "codemirror_mode": {
    "name": "ipython",
    "version": 3
   },
   "file_extension": ".py",
   "mimetype": "text/x-python",
   "name": "python",
   "nbconvert_exporter": "python",
   "pygments_lexer": "ipython3",
   "version": "3.9.6"
  }
 },
 "nbformat": 4,
 "nbformat_minor": 5
}
